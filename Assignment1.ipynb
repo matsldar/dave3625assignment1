{
 "cells": [
  {
   "cell_type": "markdown",
   "id": "221aa825",
   "metadata": {},
   "source": [
    "## Assignment 1"
   ]
  },
  {
   "cell_type": "code",
   "execution_count": 1,
   "id": "e202ebb7",
   "metadata": {},
   "outputs": [],
   "source": [
    "%matplotlib inline\n",
    "import pandas as pd\n",
    "import numpy as np\n",
    "from scipy import stats\n",
    "import matplotlib as plt\n",
    "import datetime as dt"
   ]
  },
  {
   "cell_type": "code",
   "execution_count": 2,
   "id": "987e1479",
   "metadata": {},
   "outputs": [],
   "source": [
    "url = 'Ruter_data.csv'\n",
    "df = pd.read_csv(url, sep=';')"
   ]
  },
  {
   "cell_type": "code",
   "execution_count": 3,
   "id": "1ca54b2d",
   "metadata": {},
   "outputs": [
    {
     "name": "stdout",
     "output_type": "stream",
     "text": [
      "<class 'pandas.core.frame.DataFrame'>\n",
      "RangeIndex: 6000 entries, 0 to 5999\n",
      "Data columns (total 17 columns):\n",
      " #   Column                                     Non-Null Count  Dtype \n",
      "---  ------                                     --------------  ----- \n",
      " 0   TurId                                      6000 non-null   object\n",
      " 1   Dato                                       6000 non-null   object\n",
      " 2   Fylke                                      6000 non-null   object\n",
      " 3   Område                                     6000 non-null   object\n",
      " 4   Kommune                                    6000 non-null   object\n",
      " 5   Holdeplass_Fra                             6000 non-null   object\n",
      " 6   Holdeplass_Til                             6000 non-null   object\n",
      " 7   Linjetype                                  6000 non-null   object\n",
      " 8   Linjefylke                                 6000 non-null   object\n",
      " 9   Linjenavn                                  6000 non-null   object\n",
      " 10  Linjeretning                               6000 non-null   int64 \n",
      " 11  Tidspunkt_Faktisk_Ankomst_Holdeplass_Fra   6000 non-null   object\n",
      " 12  Tidspunkt_Faktisk_Avgang_Holdeplass_Fra    6000 non-null   object\n",
      " 13  Tidspunkt_Planlagt_Ankomst_Holdeplass_Fra  6000 non-null   object\n",
      " 14  Tidspunkt_Planlagt_Avgang_Holdeplass_Fra   6000 non-null   object\n",
      " 15  Kjøretøy_Kapasitet                         6000 non-null   int64 \n",
      " 16  Passasjerer_Ombord                         6000 non-null   int64 \n",
      "dtypes: int64(3), object(14)\n",
      "memory usage: 797.0+ KB\n"
     ]
    }
   ],
   "source": [
    "df.info()"
   ]
  },
  {
   "cell_type": "markdown",
   "id": "c7437792",
   "metadata": {},
   "source": [
    "### Cleaning the data"
   ]
  },
  {
   "cell_type": "code",
   "execution_count": 4,
   "id": "fc3b7cf4",
   "metadata": {},
   "outputs": [],
   "source": [
    "df['Dato'] = pd.to_datetime(df['Dato'])"
   ]
  },
  {
   "cell_type": "markdown",
   "id": "d2cbc505",
   "metadata": {},
   "source": [
    "Når man prøver å konvertere tidspunktene til datetime så får man error. Fant ut at da at det er kolonner med timeverdier på 24 og 25. I tillegg noen med verdien : Lager en funksjon for å rydde opp i disse:"
   ]
  },
  {
   "cell_type": "code",
   "execution_count": 5,
   "id": "d688464a",
   "metadata": {},
   "outputs": [],
   "source": [
    "def toTimestamp(rowTitle):\n",
    "    for index, row in df.iterrows():\n",
    "        try:\n",
    "            hour = int(row[rowTitle][:2])\n",
    "        except:\n",
    "            df.at[index, rowTitle] = np.nan\n",
    "            hour = np.nan\n",
    "\n",
    "        if hour == 24:\n",
    "            # Endrer verdien i cellen til 00\n",
    "            df.at[index, rowTitle] = \"00\"+row[rowTitle][2:]\n",
    "        elif hour == 25:\n",
    "            df.at[index, rowTitle] = \"01\"+row[rowTitle][2:]\n",
    "        elif hour > 25:\n",
    "            print(row[rowTitle])\n",
    "            \n",
    "    df[rowTitle] = pd.to_datetime(df[rowTitle],format= '%H:%M:%S' ).dt.time\n",
    "        \n",
    "toTimestamp('Tidspunkt_Faktisk_Ankomst_Holdeplass_Fra')\n",
    "toTimestamp('Tidspunkt_Faktisk_Avgang_Holdeplass_Fra')\n",
    "toTimestamp('Tidspunkt_Planlagt_Ankomst_Holdeplass_Fra')\n",
    "toTimestamp('Tidspunkt_Planlagt_Avgang_Holdeplass_Fra')"
   ]
  },
  {
   "cell_type": "markdown",
   "id": "07d74c65",
   "metadata": {},
   "source": [
    "Fjerne negative \"Passasjerer_Ombord\" verdier"
   ]
  },
  {
   "cell_type": "code",
   "execution_count": 8,
   "id": "0390a687",
   "metadata": {},
   "outputs": [],
   "source": [
    "    for index, row in df.iterrows():\n",
    "        if df.at[index, 'Passasjerer_Ombord'] < 0:\n",
    "            df.at[index, 'Passasjerer_Ombord'] = 0"
   ]
  },
  {
   "cell_type": "markdown",
   "id": "140f45f2",
   "metadata": {},
   "source": [
    "## Features"
   ]
  },
  {
   "cell_type": "markdown",
   "id": "3740ac2d",
   "metadata": {},
   "source": [
    "#### 1. Kapasitet Prosent\n",
    "Hvor mange prosent full en buss er"
   ]
  },
  {
   "cell_type": "code",
   "execution_count": 9,
   "id": "03c6b2de",
   "metadata": {},
   "outputs": [],
   "source": [
    "df[\"Kapasitet_Prosent\"] = df['Passasjerer_Ombord']/df['Kjøretøy_Kapasitet']*100"
   ]
  },
  {
   "cell_type": "markdown",
   "id": "d686f3ca",
   "metadata": {},
   "source": [
    "#### 2. Ukedager\n",
    "Hvilken ukedag datoen er på"
   ]
  },
  {
   "cell_type": "code",
   "execution_count": 11,
   "id": "6877d0bb",
   "metadata": {},
   "outputs": [],
   "source": [
    "df['Ukedag'] = df['Dato'].dt.day_name()"
   ]
  },
  {
   "cell_type": "markdown",
   "id": "6b79725b",
   "metadata": {},
   "source": [
    "#### 3. Prosesstid\n",
    "Tid brukt på stasjonen"
   ]
  },
  {
   "cell_type": "code",
   "execution_count": 15,
   "id": "c1916736",
   "metadata": {},
   "outputs": [],
   "source": [
    "df['Prosesstid'] = pd.to_datetime(df['Tidspunkt_Faktisk_Avgang_Holdeplass_Fra'], format='%H:%M:%S') - pd.to_datetime(df['Tidspunkt_Faktisk_Ankomst_Holdeplass_Fra'], format='%H:%M:%S')\n",
    "df['Prosesstid'] = df['Prosesstid'].dt.total_seconds()"
   ]
  },
  {
   "cell_type": "markdown",
   "id": "58eeb195",
   "metadata": {},
   "source": [
    "#### 4. Forsinkelse\n",
    "Hvor forsinket en buss avgang er"
   ]
  },
  {
   "cell_type": "code",
   "execution_count": 16,
   "id": "86168afc",
   "metadata": {},
   "outputs": [],
   "source": [
    "df['Forsinkelse'] = pd.to_datetime(df['Tidspunkt_Faktisk_Avgang_Holdeplass_Fra'], format='%H:%M:%S') - pd.to_datetime(df['Tidspunkt_Planlagt_Avgang_Holdeplass_Fra'], format='%H:%M:%S')\n",
    "df['Forsinkelse'] = df['Forsinkelse'].dt.total_seconds()"
   ]
  },
  {
   "cell_type": "code",
   "execution_count": 19,
   "id": "2ef25ea0",
   "metadata": {},
   "outputs": [],
   "source": [
    "# Fjerne store verdier som er støy\n",
    "for index, row in df.iterrows():\n",
    "    if df.at[index, 'Forsinkelse'] > 5000:\n",
    "         df.at[index, 'Forsinkelse'] = np.nan\n",
    "    elif df.at[index, 'Forsinkelse'] < -5000:\n",
    "         df.at[index, 'Forsinkelse'] = np.nan"
   ]
  },
  {
   "cell_type": "markdown",
   "id": "e5bbb83e",
   "metadata": {},
   "source": [
    "#### 5. Periode på døgnet\n",
    "Hvilken periode buss avgangen er. Morgen, Kveld, etc..."
   ]
  },
  {
   "cell_type": "code",
   "execution_count": 20,
   "id": "9e9c057d",
   "metadata": {},
   "outputs": [
    {
     "data": {
      "text/html": [
       "<div>\n",
       "<style scoped>\n",
       "    .dataframe tbody tr th:only-of-type {\n",
       "        vertical-align: middle;\n",
       "    }\n",
       "\n",
       "    .dataframe tbody tr th {\n",
       "        vertical-align: top;\n",
       "    }\n",
       "\n",
       "    .dataframe thead th {\n",
       "        text-align: right;\n",
       "    }\n",
       "</style>\n",
       "<table border=\"1\" class=\"dataframe\">\n",
       "  <thead>\n",
       "    <tr style=\"text-align: right;\">\n",
       "      <th></th>\n",
       "      <th>TurId</th>\n",
       "      <th>Dato</th>\n",
       "      <th>Fylke</th>\n",
       "      <th>Område</th>\n",
       "      <th>Kommune</th>\n",
       "      <th>Holdeplass_Fra</th>\n",
       "      <th>Holdeplass_Til</th>\n",
       "      <th>Linjetype</th>\n",
       "      <th>Linjefylke</th>\n",
       "      <th>Linjenavn</th>\n",
       "      <th>...</th>\n",
       "      <th>Tidspunkt_Planlagt_Ankomst_Holdeplass_Fra</th>\n",
       "      <th>Tidspunkt_Planlagt_Avgang_Holdeplass_Fra</th>\n",
       "      <th>Kjøretøy_Kapasitet</th>\n",
       "      <th>Passasjerer_Ombord</th>\n",
       "      <th>Kapasitet_Prosent</th>\n",
       "      <th>Ukedag</th>\n",
       "      <th>Prosesstid</th>\n",
       "      <th>Forsinkelse</th>\n",
       "      <th>Døgn_Periode</th>\n",
       "      <th>tid_døgn</th>\n",
       "    </tr>\n",
       "  </thead>\n",
       "  <tbody>\n",
       "    <tr>\n",
       "      <th>0</th>\n",
       "      <td>15006-2020-08-10T10:24:00+02:00</td>\n",
       "      <td>2020-10-08</td>\n",
       "      <td>Viken</td>\n",
       "      <td>Vest</td>\n",
       "      <td>Bærum</td>\n",
       "      <td>Nordliveien</td>\n",
       "      <td>Tjernsmyr</td>\n",
       "      <td>Lokal</td>\n",
       "      <td>Viken</td>\n",
       "      <td>150</td>\n",
       "      <td>...</td>\n",
       "      <td>10:53:00</td>\n",
       "      <td>10:53:00</td>\n",
       "      <td>112</td>\n",
       "      <td>5</td>\n",
       "      <td>4.464286</td>\n",
       "      <td>Thursday</td>\n",
       "      <td>6.0</td>\n",
       "      <td>59.0</td>\n",
       "      <td>10.0</td>\n",
       "      <td>Morgen</td>\n",
       "    </tr>\n",
       "    <tr>\n",
       "      <th>1</th>\n",
       "      <td>15002-2020-08-15T12:54:00+02:00</td>\n",
       "      <td>2020-08-15</td>\n",
       "      <td>Viken</td>\n",
       "      <td>Vest</td>\n",
       "      <td>Bærum</td>\n",
       "      <td>Nadderud stadion</td>\n",
       "      <td>Bekkestua bussterminal (Plattform C)</td>\n",
       "      <td>Lokal</td>\n",
       "      <td>Viken</td>\n",
       "      <td>150</td>\n",
       "      <td>...</td>\n",
       "      <td>13:12:00</td>\n",
       "      <td>13:12:00</td>\n",
       "      <td>112</td>\n",
       "      <td>5</td>\n",
       "      <td>4.464286</td>\n",
       "      <td>Saturday</td>\n",
       "      <td>6.0</td>\n",
       "      <td>26.0</td>\n",
       "      <td>13.0</td>\n",
       "      <td>Ettermiddag</td>\n",
       "    </tr>\n",
       "    <tr>\n",
       "      <th>2</th>\n",
       "      <td>15004-2020-08-03T09:54:00+02:00</td>\n",
       "      <td>2020-03-08</td>\n",
       "      <td>Viken</td>\n",
       "      <td>Vest</td>\n",
       "      <td>Bærum</td>\n",
       "      <td>Ringstabekkveien</td>\n",
       "      <td>Skallum</td>\n",
       "      <td>Lokal</td>\n",
       "      <td>Viken</td>\n",
       "      <td>150</td>\n",
       "      <td>...</td>\n",
       "      <td>10:19:00</td>\n",
       "      <td>10:19:00</td>\n",
       "      <td>112</td>\n",
       "      <td>6</td>\n",
       "      <td>5.357143</td>\n",
       "      <td>Sunday</td>\n",
       "      <td>25.0</td>\n",
       "      <td>21.0</td>\n",
       "      <td>10.0</td>\n",
       "      <td>Morgen</td>\n",
       "    </tr>\n",
       "    <tr>\n",
       "      <th>3</th>\n",
       "      <td>15003-2020-07-27T13:00:00+02:00</td>\n",
       "      <td>2020-07-27</td>\n",
       "      <td>Viken</td>\n",
       "      <td>Vest</td>\n",
       "      <td>Bærum</td>\n",
       "      <td>Gruvemyra</td>\n",
       "      <td>Gullhaug</td>\n",
       "      <td>Lokal</td>\n",
       "      <td>Viken</td>\n",
       "      <td>150</td>\n",
       "      <td>...</td>\n",
       "      <td>13:51:00</td>\n",
       "      <td>13:51:00</td>\n",
       "      <td>112</td>\n",
       "      <td>10</td>\n",
       "      <td>8.928571</td>\n",
       "      <td>Monday</td>\n",
       "      <td>22.0</td>\n",
       "      <td>86.0</td>\n",
       "      <td>13.0</td>\n",
       "      <td>Ettermiddag</td>\n",
       "    </tr>\n",
       "    <tr>\n",
       "      <th>4</th>\n",
       "      <td>15002-2020-08-27T07:15:00+02:00</td>\n",
       "      <td>2020-08-27</td>\n",
       "      <td>Viken</td>\n",
       "      <td>Vest</td>\n",
       "      <td>Bærum</td>\n",
       "      <td>Lysaker stasjon (Plattform A)</td>\n",
       "      <td>Tjernsmyr</td>\n",
       "      <td>Lokal</td>\n",
       "      <td>Viken</td>\n",
       "      <td>150</td>\n",
       "      <td>...</td>\n",
       "      <td>07:33:00</td>\n",
       "      <td>07:33:00</td>\n",
       "      <td>112</td>\n",
       "      <td>10</td>\n",
       "      <td>8.928571</td>\n",
       "      <td>Thursday</td>\n",
       "      <td>40.0</td>\n",
       "      <td>113.0</td>\n",
       "      <td>7.0</td>\n",
       "      <td>Morgen</td>\n",
       "    </tr>\n",
       "  </tbody>\n",
       "</table>\n",
       "<p>5 rows × 23 columns</p>\n",
       "</div>"
      ],
      "text/plain": [
       "                             TurId       Dato  Fylke Område Kommune  \\\n",
       "0  15006-2020-08-10T10:24:00+02:00 2020-10-08  Viken   Vest   Bærum   \n",
       "1  15002-2020-08-15T12:54:00+02:00 2020-08-15  Viken   Vest   Bærum   \n",
       "2  15004-2020-08-03T09:54:00+02:00 2020-03-08  Viken   Vest   Bærum   \n",
       "3  15003-2020-07-27T13:00:00+02:00 2020-07-27  Viken   Vest   Bærum   \n",
       "4  15002-2020-08-27T07:15:00+02:00 2020-08-27  Viken   Vest   Bærum   \n",
       "\n",
       "                  Holdeplass_Fra                        Holdeplass_Til  \\\n",
       "0                    Nordliveien                             Tjernsmyr   \n",
       "1               Nadderud stadion  Bekkestua bussterminal (Plattform C)   \n",
       "2               Ringstabekkveien                               Skallum   \n",
       "3                      Gruvemyra                              Gullhaug   \n",
       "4  Lysaker stasjon (Plattform A)                             Tjernsmyr   \n",
       "\n",
       "  Linjetype Linjefylke Linjenavn  ...  \\\n",
       "0     Lokal      Viken       150  ...   \n",
       "1     Lokal      Viken       150  ...   \n",
       "2     Lokal      Viken       150  ...   \n",
       "3     Lokal      Viken       150  ...   \n",
       "4     Lokal      Viken       150  ...   \n",
       "\n",
       "   Tidspunkt_Planlagt_Ankomst_Holdeplass_Fra  \\\n",
       "0                                   10:53:00   \n",
       "1                                   13:12:00   \n",
       "2                                   10:19:00   \n",
       "3                                   13:51:00   \n",
       "4                                   07:33:00   \n",
       "\n",
       "  Tidspunkt_Planlagt_Avgang_Holdeplass_Fra Kjøretøy_Kapasitet  \\\n",
       "0                                 10:53:00                112   \n",
       "1                                 13:12:00                112   \n",
       "2                                 10:19:00                112   \n",
       "3                                 13:51:00                112   \n",
       "4                                 07:33:00                112   \n",
       "\n",
       "  Passasjerer_Ombord Kapasitet_Prosent    Ukedag  Prosesstid  Forsinkelse  \\\n",
       "0                  5          4.464286  Thursday         6.0         59.0   \n",
       "1                  5          4.464286  Saturday         6.0         26.0   \n",
       "2                  6          5.357143    Sunday        25.0         21.0   \n",
       "3                 10          8.928571    Monday        22.0         86.0   \n",
       "4                 10          8.928571  Thursday        40.0        113.0   \n",
       "\n",
       "  Døgn_Periode     tid_døgn  \n",
       "0         10.0       Morgen  \n",
       "1         13.0  Ettermiddag  \n",
       "2         10.0       Morgen  \n",
       "3         13.0  Ettermiddag  \n",
       "4          7.0       Morgen  \n",
       "\n",
       "[5 rows x 23 columns]"
      ]
     },
     "execution_count": 20,
     "metadata": {},
     "output_type": "execute_result"
    }
   ],
   "source": [
    "df['Døgn_Periode'] = pd.to_datetime(df['Tidspunkt_Faktisk_Avgang_Holdeplass_Fra'], format='%H:%M:%S')\n",
    "df['Døgn_Periode'] = df['Døgn_Periode'].dt.hour\n",
    "\n",
    "conditions = [\n",
    "    (df['Døgn_Periode'] <= 6),\n",
    "    (df['Døgn_Periode'] > 6) & (df['Døgn_Periode'] <= 12),\n",
    "    (df['Døgn_Periode'] > 12) & (df['Døgn_Periode'] <= 18),\n",
    "    (df['Døgn_Periode'] > 18)\n",
    "    ]\n",
    "values = ['Natt', 'Morgen', 'Ettermiddag', 'Kveld']\n",
    "df['tid_døgn'] = np.select(conditions, values)\n",
    "df.head()"
   ]
  },
  {
   "cell_type": "markdown",
   "id": "ce5ffed6",
   "metadata": {},
   "source": [
    "### Feature Engineering"
   ]
  },
  {
   "cell_type": "markdown",
   "id": "aabcf248",
   "metadata": {},
   "source": [
    "#### 1. Prosesstid per dato"
   ]
  },
  {
   "cell_type": "code",
   "execution_count": 21,
   "id": "9b9d2c9d",
   "metadata": {},
   "outputs": [
    {
     "data": {
      "text/plain": [
       "<AxesSubplot:xlabel='Prosesstid', ylabel='Dato'>"
      ]
     },
     "execution_count": 21,
     "metadata": {},
     "output_type": "execute_result"
    },
    {
     "data": {
      "image/png": "[encoded data removed]",
      "text/plain": [
       "<Figure size 432x288 with 1 Axes>"
      ]
     },
     "metadata": {
      "needs_background": "light"
     },
     "output_type": "display_data"
    }
   ],
   "source": [
    "df.plot.scatter(x = 'Prosesstid', y = 'Dato')"
   ]
  },
  {
   "cell_type": "markdown",
   "id": "18c5f46c",
   "metadata": {},
   "source": [
    "#### 2. Antall busser per  døgn tid"
   ]
  },
  {
   "cell_type": "code",
   "execution_count": 24,
   "id": "4f15cfab",
   "metadata": {},
   "outputs": [
    {
     "data": {
      "text/plain": [
       "<AxesSubplot:xlabel='tid_døgn'>"
      ]
     },
     "execution_count": 24,
     "metadata": {},
     "output_type": "execute_result"
    },
    {
     "data": {
      "image/png": "[encoded data removed]",
      "text/plain": [
       "<Figure size 432x288 with 1 Axes>"
      ]
     },
     "metadata": {
      "needs_background": "light"
     },
     "output_type": "display_data"
    }
   ],
   "source": [
    "df_tidCount = df.groupby('tid_døgn').count()\n",
    "df_tidCount[\"Døgn_Periode\"].drop([\"0\"]).plot.bar()"
   ]
  },
  {
   "cell_type": "markdown",
   "id": "1e0905ac",
   "metadata": {},
   "source": [
    "#### 3. Fyllt kapasitet per time"
   ]
  },
  {
   "cell_type": "code",
   "execution_count": 25,
   "id": "644ea8d8",
   "metadata": {},
   "outputs": [
    {
     "data": {
      "text/plain": [
       "<AxesSubplot:xlabel='Døgn_Periode', ylabel='Kapasitet_Prosent'>"
      ]
     },
     "execution_count": 25,
     "metadata": {},
     "output_type": "execute_result"
    },
    {
     "data": {
      "image/png": "[encoded data removed]",
      "text/plain": [
       "<Figure size 432x288 with 1 Axes>"
      ]
     },
     "metadata": {
      "needs_background": "light"
     },
     "output_type": "display_data"
    }
   ],
   "source": [
    "df.plot.scatter(x='Døgn_Periode', y='Kapasitet_Prosent')"
   ]
  },
  {
   "cell_type": "markdown",
   "id": "50bea7ba",
   "metadata": {},
   "source": [
    "#### 4. Antall busser per ukedag"
   ]
  },
  {
   "cell_type": "code",
   "execution_count": 26,
   "id": "1f4ceddf",
   "metadata": {},
   "outputs": [
    {
     "data": {
      "text/plain": [
       "<AxesSubplot:xlabel='Ukedag'>"
      ]
     },
     "execution_count": 26,
     "metadata": {},
     "output_type": "execute_result"
    },
    {
     "data": {
      "image/png": "[encoded data removed]",
      "text/plain": [
       "<Figure size 432x288 with 1 Axes>"
      ]
     },
     "metadata": {
      "needs_background": "light"
     },
     "output_type": "display_data"
    }
   ],
   "source": [
    "df_DagCount = df.groupby('Ukedag').count()\n",
    "df_DagCount.Dato\n",
    "df_DagCount[\"Dato\"].plot.area(stacked=False)"
   ]
  },
  {
   "cell_type": "markdown",
   "id": "7ce0c5aa",
   "metadata": {},
   "source": [
    "#### 5. Forsinkelse per tid_døgn"
   ]
  },
  {
   "cell_type": "code",
   "execution_count": 27,
   "id": "59210337",
   "metadata": {},
   "outputs": [
    {
     "data": {
      "text/plain": [
       "<AxesSubplot:xlabel='Forsinkelse', ylabel='tid_døgn'>"
      ]
     },
     "execution_count": 27,
     "metadata": {},
     "output_type": "execute_result"
    },
    {
     "data": {
      "image/png": "[encoded data removed]",
      "text/plain": [
       "<Figure size 432x288 with 1 Axes>"
      ]
     },
     "metadata": {
      "needs_background": "light"
     },
     "output_type": "display_data"
    }
   ],
   "source": [
    "df.plot.scatter(x = 'Forsinkelse', y = 'tid_døgn', s = 100)"
   ]
  }
 ],
 "metadata": {
  "kernelspec": {
   "display_name": "Python 3 (ipykernel)",
   "language": "python",
   "name": "python3"
  },
  "language_info": {
   "codemirror_mode": {
    "name": "ipython",
    "version": 3
   },
   "file_extension": ".py",
   "mimetype": "text/x-python",
   "name": "python",
   "nbconvert_exporter": "python",
   "pygments_lexer": "ipython3",
   "version": "3.8.11"
  }
 },
 "nbformat": 4,
 "nbformat_minor": 5
}
